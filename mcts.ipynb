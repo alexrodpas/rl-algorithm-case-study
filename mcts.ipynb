{
 "cells": [
  {
   "cell_type": "code",
   "execution_count": 6,
   "metadata": {},
   "outputs": [],
   "source": [
    "import gym\n",
    "import gym_examples\n",
    "import numpy as np\n",
    "from PIL import Image\n",
    "from copy import deepcopy, copy\n",
    "import warnings\n",
    "warnings.filterwarnings(\"ignore\", category=DeprecationWarning) "
   ]
  },
  {
   "cell_type": "code",
   "execution_count": 7,
   "metadata": {},
   "outputs": [],
   "source": [
    "env = gym.make('GridWorld-v0', render_mode='human')\n",
    "env.reset()\n",
    "env.render()"
   ]
  },
  {
   "cell_type": "code",
   "execution_count": 8,
   "metadata": {},
   "outputs": [
    {
     "name": "stdout",
     "output_type": "stream",
     "text": [
      "Observation: {'agent': array([3, 1]), 'target': array([2, 4])}\n",
      "Reward: 0\n",
      "Terminated: False\n",
      "Truncated: False\n",
      "Info: {'distance': 4.0}\n"
     ]
    }
   ],
   "source": [
    "# assign step returns\n",
    "observation, reward, terminated, truncated, info = env.step(3)\n",
    "print(f'Observation: {observation}\\nReward: {reward}\\nTerminated: {terminated}\\nTruncated: {truncated}\\nInfo: {info}')\n",
    "env.close()"
   ]
  },
  {
   "cell_type": "code",
   "execution_count": 9,
   "metadata": {},
   "outputs": [
    {
     "name": "stdout",
     "output_type": "stream",
     "text": [
      "Action space: Discrete(4)\n"
     ]
    }
   ],
   "source": [
    "# Action space\n",
    "print(f'Action space: {env.action_space}')"
   ]
  },
  {
   "cell_type": "code",
   "execution_count": 36,
   "metadata": {},
   "outputs": [],
   "source": [
    "class Node():\n",
    "    def __init__(self, state, action, action_list, visits=0, reward=0, parent=None):\n",
    "        self.state = state\n",
    "        self.action = action\n",
    "        self.untried_actions = action_list\n",
    "        self.action_list = action_list\n",
    "        self.children = []\n",
    "        self.visits = visits\n",
    "        self.value = reward\n",
    "        self.parent = parent\n",
    "    \n",
    "    def add_child(self, child):\n",
    "        child = child\n",
    "        self.children.append(child)\n",
    "    \n",
    "    def get_value(self):\n",
    "        return self.value / self.visits if self.visits > 0 else 0\n",
    "    \n",
    "    def uct_value(self, parent_visits, c=1.4):\n",
    "        # c is a constant that controls the degree of exploration\n",
    "\n",
    "        # If the node or parent has not been visited, return infinity\n",
    "        if self.visits == 0 or parent_visits == 0:\n",
    "            return np.inf\n",
    "        # Otherwise, return the standard UCT value\n",
    "        else:\n",
    "            return self.get_value() + c * np.sqrt(np.log(parent_visits) / self.visits)\n",
    "    \n",
    "    def selection(self):\n",
    "        # check if the node has unexplored actions\n",
    "        if len(self.untried_actions) > 0:\n",
    "            return self\n",
    "        else:\n",
    "            uct_values = [child.uct_value(self.visits) for child in self.children]\n",
    "            max_child = self.children[np.argmax(uct_values)]\n",
    "            return max_child.selection()\n",
    "    \n",
    "    def expansion(self, env):\n",
    "        # Randomly choose an unexpanded action\n",
    "        expand_action = np.random.choice(self.untried_actions)\n",
    "        obs, reward, terminated, truncated, info = env.step(expand_action)\n",
    "        new_node = Node(obs, expand_action, self.action_list, reward=reward, visits=1)\n",
    "        self.children.append(new_node)\n",
    "        self.untried_actions = np.delete(self.untried_actions,np.where(self.untried_actions==expand_action))\n",
    "        return new_node\n",
    "\n",
    "    def rollout(self, env):\n",
    "        terminated = False\n",
    "        while not terminated:\n",
    "            # Random rollout policy\n",
    "            action = np.random.choice(env.action_space.n)\n",
    "            obs, reward, terminated, truncated, info = env.step(action)\n",
    "        return reward\n",
    "    \n",
    "    def backup(self, reward):\n",
    "        self.visits += 1\n",
    "        self.value += reward\n",
    "        if self.parent:\n",
    "            self.parent.backup(reward)\n",
    "\n",
    "    def print_tree(self, depth=0, print_depth=0):\n",
    "        if depth > print_depth:\n",
    "            return\n",
    "        if depth == 0:\n",
    "            print(f'Root: {self.state}')\n",
    "        else:\n",
    "            print('   ' * depth,f' agent state: {self.state[\"agent\"]}, visits: {self.visits}, reward: {self.value}')\n",
    "        for child in self.children:\n",
    "            child.print_tree(depth + 1, print_depth)"
   ]
  },
  {
   "cell_type": "code",
   "execution_count": 37,
   "metadata": {},
   "outputs": [],
   "source": [
    "class MCTS():\n",
    "    def __init__(self, env, state):\n",
    "        self.env = env\n",
    "        self.action_list = self._get_action_list()\n",
    "        self.root = Node(state=state, action=None, action_list=self.action_list)\n",
    "    \n",
    "    def select_action(self):\n",
    "        \"\"\"\n",
    "        Select the action with the highest visit count. \n",
    "        For a tie, select the action with the highest value.\n",
    "        \"\"\"\n",
    "        best_action = None\n",
    "        max_visits = -1\n",
    "        best_value = -float('inf')\n",
    "        children = self.root.children\n",
    "\n",
    "        for child in children:\n",
    "            if child.visits > max_visits or (child.visits == max_visits and child.value > best_value):\n",
    "                best_action = child.action\n",
    "                max_visits = child.visits\n",
    "                best_value = child.value\n",
    "        \n",
    "        return best_action\n",
    "\n",
    "\n",
    "    def mcts_find_action(self, num_iter, print_depth=0):\n",
    "        for i in range(num_iter):\n",
    "            self.run_iteration()\n",
    "        # Choose the action with the highest visit count (+value tiebreaker) \n",
    "        action = self.select_action()\n",
    "        \n",
    "        if print_depth > 0:\n",
    "            self.root.print_tree(0, print_depth)\n",
    "        return action\n",
    "\n",
    "    def run_iteration(self):\n",
    "        '''Performs one iteration of the four steps of MCTS'''\n",
    "        # Selection\n",
    "        selected_leaf = self.root.selection()\n",
    "        # Expansion\n",
    "        expand_node = selected_leaf.expansion(self.env)\n",
    "        # Simulation\n",
    "        reward = expand_node.rollout(self.env)\n",
    "        # Backup\n",
    "        expand_node.backup(reward)\n",
    "\n",
    "    def _get_action_list(self):\n",
    "        # Assert that the action space is discrete\n",
    "        assert isinstance(self.env.action_space, gym.spaces.Discrete)\n",
    "        return np.arange(self.env.action_space.n)"
   ]
  },
  {
   "cell_type": "code",
   "execution_count": 38,
   "metadata": {},
   "outputs": [
    {
     "data": {
      "text/plain": [
       "'↑'"
      ]
     },
     "execution_count": 38,
     "metadata": {},
     "output_type": "execute_result"
    }
   ],
   "source": [
    "def action_arrow(action):\n",
    "    # Mapping the GridWorld actions to arrows\n",
    "    # We have 4 actions, corresponding to \"right\", \"up\", \"left\", \"down\"\n",
    "    return np.array(['→','↓','←','↑'])[action]\n",
    "action_arrow(3)"
   ]
  },
  {
   "cell_type": "code",
   "execution_count": 39,
   "metadata": {},
   "outputs": [],
   "source": [
    "def render_rgb(rgb_array):\n",
    "    display(Image.fromarray(rgb_array).resize((150,150)))"
   ]
  },
  {
   "cell_type": "code",
   "execution_count": 40,
   "metadata": {},
   "outputs": [
    {
     "data": {
      "image/jpeg": "[encoded data removed]",
      "image/png": "[encoded data removed]",
      "text/plain": [
       "<PIL.Image.Image image mode=RGB size=150x150>"
      ]
     },
     "metadata": {},
     "output_type": "display_data"
    }
   ],
   "source": [
    "env = gym.make('GridWorld-v0', render_mode='rgb_array', size=4)\n",
    "env.reset()\n",
    "render_rgb(env.render())"
   ]
  },
  {
   "cell_type": "code",
   "execution_count": 41,
   "metadata": {},
   "outputs": [
    {
     "data": {
      "image/jpeg": "[encoded data removed]",
      "image/png": "[encoded data removed]",
      "text/plain": [
       "<PIL.Image.Image image mode=RGB size=150x150>"
      ]
     },
     "metadata": {},
     "output_type": "display_data"
    },
    {
     "name": "stdout",
     "output_type": "stream",
     "text": [
      "Root: {'agent': array([1, 1]), 'target': array([3, 3])}\n",
      "     agent state: [1 0], visits: 2, reward: 1\n",
      "     agent state: [3 3], visits: 2, reward: 2\n",
      "     agent state: [2 3], visits: 2, reward: 1\n",
      "     agent state: [3 3], visits: 2, reward: 2\n",
      "Selected action: →\n",
      "Obs: {'agent': array([2, 1]), 'target': array([3, 3])}\n"
     ]
    },
    {
     "data": {
      "image/jpeg": "[encoded data removed]",
      "image/png": "[encoded data removed]",
      "text/plain": [
       "<PIL.Image.Image image mode=RGB size=150x150>"
      ]
     },
     "metadata": {},
     "output_type": "display_data"
    },
    {
     "name": "stdout",
     "output_type": "stream",
     "text": [
      "Root: {'agent': array([2, 1]), 'target': array([3, 3])}\n",
      "     agent state: [2 2], visits: 2, reward: 1\n",
      "     agent state: [2 3], visits: 2, reward: 1\n",
      "     agent state: [3 3], visits: 2, reward: 2\n",
      "     agent state: [3 2], visits: 2, reward: 1\n",
      "Selected action: →\n",
      "Obs: {'agent': array([3, 1]), 'target': array([3, 3])}\n"
     ]
    },
    {
     "data": {
      "image/jpeg": "[encoded data removed]",
      "image/png": "[encoded data removed]",
      "text/plain": [
       "<PIL.Image.Image image mode=RGB size=150x150>"
      ]
     },
     "metadata": {},
     "output_type": "display_data"
    },
    {
     "name": "stdout",
     "output_type": "stream",
     "text": [
      "Root: {'agent': array([3, 1]), 'target': array([3, 3])}\n",
      "     agent state: [2 1], visits: 2, reward: 1\n",
      "     agent state: [3 3], visits: 2, reward: 2\n",
      "     agent state: [3 3], visits: 2, reward: 2\n",
      "     agent state: [3 2], visits: 2, reward: 1\n",
      "Selected action: ↓\n",
      "Obs: {'agent': array([3, 2]), 'target': array([3, 3])}\n"
     ]
    },
    {
     "data": {
      "image/jpeg": "[encoded data removed]",
      "image/png": "[encoded data removed]",
      "text/plain": [
       "<PIL.Image.Image image mode=RGB size=150x150>"
      ]
     },
     "metadata": {},
     "output_type": "display_data"
    },
    {
     "name": "stdout",
     "output_type": "stream",
     "text": [
      "Root: {'agent': array([3, 2]), 'target': array([3, 3])}\n",
      "     agent state: [3 1], visits: 2, reward: 1\n",
      "     agent state: [3 3], visits: 2, reward: 2\n",
      "     agent state: [3 3], visits: 2, reward: 2\n",
      "     agent state: [2 3], visits: 2, reward: 1\n",
      "Selected action: ↓\n",
      "Obs: {'agent': array([3, 3]), 'target': array([3, 3])}\n"
     ]
    },
    {
     "data": {
      "image/jpeg": "[encoded data removed]",
      "image/png": "[encoded data removed]",
      "text/plain": [
       "<PIL.Image.Image image mode=RGB size=150x150>"
      ]
     },
     "metadata": {},
     "output_type": "display_data"
    },
    {
     "name": "stdout",
     "output_type": "stream",
     "text": [
      "Terminated\n"
     ]
    }
   ],
   "source": [
    "# run MCTS on the environment\n",
    "obs, info = env.reset()\n",
    "render_rgb(env.render())\n",
    "\n",
    "for i in range(7):\n",
    "    # Copy the env for MCTS simulations\n",
    "    mcts_env = deepcopy(env)\n",
    "    mcts = MCTS(mcts_env, obs)\n",
    "    action = mcts.mcts_find_action(25, print_depth=1)\n",
    "    print(f'Selected action: {action_arrow(action)}')\n",
    "    obs, reward, terminated, truncated, info = env.step(action)\n",
    "    print(f'Obs: {obs}')\n",
    "    render_rgb(env.render())\n",
    "    if terminated:\n",
    "        print('Terminated')\n",
    "        break"
   ]
  }
 ],
 "metadata": {
  "kernelspec": {
   "display_name": "CS687-RL",
   "language": "python",
   "name": "python3"
  },
  "language_info": {
   "codemirror_mode": {
    "name": "ipython",
    "version": 3
   },
   "file_extension": ".py",
   "mimetype": "text/x-python",
   "name": "python",
   "nbconvert_exporter": "python",
   "pygments_lexer": "ipython3",
   "version": "3.9.7"
  }
 },
 "nbformat": 4,
 "nbformat_minor": 2
}
